{
 "cells": [
  {
   "cell_type": "markdown",
   "metadata": {},
   "source": [
    "# Analysis of the Ethereum Blockchain Arbitrages and Liquidations"
   ]
  },
  {
   "cell_type": "code",
   "execution_count": 1,
   "metadata": {
    "ExecuteTime": {
     "start_time": "2023-04-10T08:50:15.047025Z",
     "end_time": "2023-04-10T08:50:15.995893Z"
    }
   },
   "outputs": [],
   "source": [
    "import os\n",
    "\n",
    "import pandas as pd\n",
    "import numpy as np\n",
    "import matplotlib.pyplot as plt"
   ]
  },
  {
   "cell_type": "markdown",
   "metadata": {},
   "source": [
    "# Data Collection\n",
    "\n",
    "The data consists of a list of arbitrage transactions, liquidations, block features which are stored on a postgres db.\n",
    "Additionally, general features of the blockchain e.g. number of protocol usages in the transactions are stored in the db directory.\n",
    "The arbitrage transactions were collected using calls to multiple Erigon RPC endpoints.\n",
    "\n",
    "The first collection of data is from block 15200000 to 15500000 or from Jul-23-2022 04:32:35 PM +UTC to Sep-09-2022 01:39:42 AM +UTC.\n",
    "These blocks are pre-merge blocks. The next collection will analyse the post-merge blocks.\n",
    "\n",
    "First, we must connect to our database."
   ]
  },
  {
   "cell_type": "code",
   "execution_count": 2,
   "outputs": [],
   "source": [
    "# Connect to db\n",
    "from sqlalchemy import create_engine, text\n",
    "from db import get_inspect_database_uri\n",
    "\n",
    "conn = create_engine(get_inspect_database_uri()).connect()"
   ],
   "metadata": {
    "collapsed": false,
    "ExecuteTime": {
     "start_time": "2023-04-10T08:50:16.042451Z",
     "end_time": "2023-04-10T08:50:16.315770Z"
    }
   }
  },
  {
   "cell_type": "markdown",
   "source": [
    "# Arbitrage Analysis"
   ],
   "metadata": {
    "collapsed": false
   }
  },
  {
   "cell_type": "markdown",
   "source": [
    "## Data Loading and Cleaning"
   ],
   "metadata": {
    "collapsed": false
   }
  },
  {
   "cell_type": "code",
   "execution_count": 3,
   "outputs": [],
   "source": [
    "query = \"SELECT * FROM arbitrages WHERE block_number BETWEEN 15200000 AND 15500000\"\n",
    "arb_df = pd.DataFrame(conn.execute(text(query)))\n",
    "arb_df.set_index('id', inplace=True)\n",
    "arb_df['timestamp'] = pd.to_datetime(arb_df['timestamp'])\n",
    "arb_df = arb_df.sort_values('block_number')"
   ],
   "metadata": {
    "collapsed": false,
    "ExecuteTime": {
     "start_time": "2023-04-10T08:50:16.303353Z",
     "end_time": "2023-04-10T08:50:17.694404Z"
    }
   }
  },
  {
   "cell_type": "code",
   "execution_count": 4,
   "outputs": [
    {
     "data": {
      "text/plain": "                                     transaction_hash  block_number  \\\nid                                                                    \n34  0xd39500706630fb26ea405ce04d7b5884df0866cb1a1c...      15200022   \n35  0x63c9c17d97c181b8819783b599a59940a786b5bd2bb6...      15200028   \n37  0xc9c502aec6b07d452ed4ce1e35c20e6cea0cda91e21a...      15200029   \n36  0x2eb09482b29b2d32a240142dee1e7ec6288719c7f049...      15200029   \n38  0x7acd0000e5e346c66e58aac81c4f48ad6022c6a0184c...      15200034   \n\n             timestamp                             account_address  status  \\\nid                                                                           \n34 2022-07-23 21:08:45  0xd8c7031da609a6e201e038dd11c97d7f26f1d572    True   \n35 2022-07-23 21:09:18  0xd7c09e006a2891880331b0f6224071c1e890a98a    True   \n37 2022-07-23 21:09:57  0x5aa3393e361c2eb342408559309b3e873cd876d6    True   \n36 2022-07-23 21:09:57  0xe8c060f8052e07423f71d445277c61ac5138a2e5    True   \n38 2022-07-23 21:11:19  0xd8c7031da609a6e201e038dd11c97d7f26f1d572    True   \n\n                                    contracts_address  \\\nid                                                      \n34  {0xfca9090d2c91e11cc546b0d7e4918c79e0088194,0x...   \n35  {0x2c51eaa1bcc7b013c3f1d5985cdcb3c56dc3fbc1,0x...   \n37  {0xb404057ee4b1d7359ca5a57ac1c020b74c23e56b,0x...   \n36  {0x06db071bebeb0570a8f3aa0e49238140bedc268f,0x...   \n38  {0x88e6a0c2ddd26feeb64f039a2c41296fcb3f5640,0x...   \n\n                                 input_tokens_address  \\\nid                                                      \n34  {0xc02aaa39b223fe8d0a0e5c4f27ead9083c756cc2,0x...   \n35  {0xc02aaa39b223fe8d0a0e5c4f27ead9083c756cc2,0x...   \n37  {0xc02aaa39b223fe8d0a0e5c4f27ead9083c756cc2,0x...   \n36  {0xc02aaa39b223fe8d0a0e5c4f27ead9083c756cc2,0x...   \n38  {0xc02aaa39b223fe8d0a0e5c4f27ead9083c756cc2,0x...   \n\n                                  input_tokens_amount  \\\nid                                                      \n34   {5120123648171978000,10837504868.0,7798609065.0}   \n35       {240470594654432770,22176822844245777000000}   \n37        {1906092123352685000,105673083691328340000}   \n36  {203776686158774270,2011097854535.0,1272233986...   \n38  {6483562585462506000,9898566457.0,120839032289...   \n\n                                output_tokens_address  \\\nid                                                      \n34  {0x70e8de73ce538da2beed35d14187f6959a8eca96,0x...   \n35  {0x2d94aa3e47d9d5024503ca8491fce9a2fb4da198,0x...   \n37  {0x50d1c9771902476076ecfc8b2a83ad6b9355a4c9,0x...   \n36  {0x53fd2342b43ecd24aef1535bc3797f509616ce8c,0x...   \n38  {0xa0b86991c6218b36c1d19d4a2e9eb0ce3606eb48,0x...   \n\n                                 output_tokens_amount  \\\nid                                                      \n34   {10837504868.0,7798609065.0,5133779858359948000}   \n35       {22176822844245777000000,248404143686549860}   \n37        {105673083691328340000,1939547111027948800}   \n36  {2011097854535.0,12722339869926854000000,22747...   \n38  {9898566457.0,120839032289753.0,64965197108999...   \n\n                  protocols  gas_price  gas_usage  block_position  \\\nid                                                                  \n34             {uniswap_v3}     163839      68917               0   \n35             {uniswap_v2}     229745     136481              63   \n37  {uniswap_v3,uniswap_v2}     947727      65768              33   \n36             {uniswap_v2}     474200      37474              37   \n38             {uniswap_v3}     156765      60038               1   \n\n    profit_amount  \nid                 \n34   1.365621e+16  \n35   7.933549e+15  \n37   3.345499e+16  \n36   2.369401e+16  \n38   1.295713e+16  ",
      "text/html": "<div>\n<style scoped>\n    .dataframe tbody tr th:only-of-type {\n        vertical-align: middle;\n    }\n\n    .dataframe tbody tr th {\n        vertical-align: top;\n    }\n\n    .dataframe thead th {\n        text-align: right;\n    }\n</style>\n<table border=\"1\" class=\"dataframe\">\n  <thead>\n    <tr style=\"text-align: right;\">\n      <th></th>\n      <th>transaction_hash</th>\n      <th>block_number</th>\n      <th>timestamp</th>\n      <th>account_address</th>\n      <th>status</th>\n      <th>contracts_address</th>\n      <th>input_tokens_address</th>\n      <th>input_tokens_amount</th>\n      <th>output_tokens_address</th>\n      <th>output_tokens_amount</th>\n      <th>protocols</th>\n      <th>gas_price</th>\n      <th>gas_usage</th>\n      <th>block_position</th>\n      <th>profit_amount</th>\n    </tr>\n    <tr>\n      <th>id</th>\n      <th></th>\n      <th></th>\n      <th></th>\n      <th></th>\n      <th></th>\n      <th></th>\n      <th></th>\n      <th></th>\n      <th></th>\n      <th></th>\n      <th></th>\n      <th></th>\n      <th></th>\n      <th></th>\n      <th></th>\n    </tr>\n  </thead>\n  <tbody>\n    <tr>\n      <th>34</th>\n      <td>0xd39500706630fb26ea405ce04d7b5884df0866cb1a1c...</td>\n      <td>15200022</td>\n      <td>2022-07-23 21:08:45</td>\n      <td>0xd8c7031da609a6e201e038dd11c97d7f26f1d572</td>\n      <td>True</td>\n      <td>{0xfca9090d2c91e11cc546b0d7e4918c79e0088194,0x...</td>\n      <td>{0xc02aaa39b223fe8d0a0e5c4f27ead9083c756cc2,0x...</td>\n      <td>{5120123648171978000,10837504868.0,7798609065.0}</td>\n      <td>{0x70e8de73ce538da2beed35d14187f6959a8eca96,0x...</td>\n      <td>{10837504868.0,7798609065.0,5133779858359948000}</td>\n      <td>{uniswap_v3}</td>\n      <td>163839</td>\n      <td>68917</td>\n      <td>0</td>\n      <td>1.365621e+16</td>\n    </tr>\n    <tr>\n      <th>35</th>\n      <td>0x63c9c17d97c181b8819783b599a59940a786b5bd2bb6...</td>\n      <td>15200028</td>\n      <td>2022-07-23 21:09:18</td>\n      <td>0xd7c09e006a2891880331b0f6224071c1e890a98a</td>\n      <td>True</td>\n      <td>{0x2c51eaa1bcc7b013c3f1d5985cdcb3c56dc3fbc1,0x...</td>\n      <td>{0xc02aaa39b223fe8d0a0e5c4f27ead9083c756cc2,0x...</td>\n      <td>{240470594654432770,22176822844245777000000}</td>\n      <td>{0x2d94aa3e47d9d5024503ca8491fce9a2fb4da198,0x...</td>\n      <td>{22176822844245777000000,248404143686549860}</td>\n      <td>{uniswap_v2}</td>\n      <td>229745</td>\n      <td>136481</td>\n      <td>63</td>\n      <td>7.933549e+15</td>\n    </tr>\n    <tr>\n      <th>37</th>\n      <td>0xc9c502aec6b07d452ed4ce1e35c20e6cea0cda91e21a...</td>\n      <td>15200029</td>\n      <td>2022-07-23 21:09:57</td>\n      <td>0x5aa3393e361c2eb342408559309b3e873cd876d6</td>\n      <td>True</td>\n      <td>{0xb404057ee4b1d7359ca5a57ac1c020b74c23e56b,0x...</td>\n      <td>{0xc02aaa39b223fe8d0a0e5c4f27ead9083c756cc2,0x...</td>\n      <td>{1906092123352685000,105673083691328340000}</td>\n      <td>{0x50d1c9771902476076ecfc8b2a83ad6b9355a4c9,0x...</td>\n      <td>{105673083691328340000,1939547111027948800}</td>\n      <td>{uniswap_v3,uniswap_v2}</td>\n      <td>947727</td>\n      <td>65768</td>\n      <td>33</td>\n      <td>3.345499e+16</td>\n    </tr>\n    <tr>\n      <th>36</th>\n      <td>0x2eb09482b29b2d32a240142dee1e7ec6288719c7f049...</td>\n      <td>15200029</td>\n      <td>2022-07-23 21:09:57</td>\n      <td>0xe8c060f8052e07423f71d445277c61ac5138a2e5</td>\n      <td>True</td>\n      <td>{0x06db071bebeb0570a8f3aa0e49238140bedc268f,0x...</td>\n      <td>{0xc02aaa39b223fe8d0a0e5c4f27ead9083c756cc2,0x...</td>\n      <td>{203776686158774270,2011097854535.0,1272233986...</td>\n      <td>{0x53fd2342b43ecd24aef1535bc3797f509616ce8c,0x...</td>\n      <td>{2011097854535.0,12722339869926854000000,22747...</td>\n      <td>{uniswap_v2}</td>\n      <td>474200</td>\n      <td>37474</td>\n      <td>37</td>\n      <td>2.369401e+16</td>\n    </tr>\n    <tr>\n      <th>38</th>\n      <td>0x7acd0000e5e346c66e58aac81c4f48ad6022c6a0184c...</td>\n      <td>15200034</td>\n      <td>2022-07-23 21:11:19</td>\n      <td>0xd8c7031da609a6e201e038dd11c97d7f26f1d572</td>\n      <td>True</td>\n      <td>{0x88e6a0c2ddd26feeb64f039a2c41296fcb3f5640,0x...</td>\n      <td>{0xc02aaa39b223fe8d0a0e5c4f27ead9083c756cc2,0x...</td>\n      <td>{6483562585462506000,9898566457.0,120839032289...</td>\n      <td>{0xa0b86991c6218b36c1d19d4a2e9eb0ce3606eb48,0x...</td>\n      <td>{9898566457.0,120839032289753.0,64965197108999...</td>\n      <td>{uniswap_v3}</td>\n      <td>156765</td>\n      <td>60038</td>\n      <td>1</td>\n      <td>1.295713e+16</td>\n    </tr>\n  </tbody>\n</table>\n</div>"
     },
     "execution_count": 4,
     "metadata": {},
     "output_type": "execute_result"
    }
   ],
   "source": [
    "arb_df.head()"
   ],
   "metadata": {
    "collapsed": false,
    "ExecuteTime": {
     "start_time": "2023-04-10T08:50:17.691544Z",
     "end_time": "2023-04-10T08:50:17.771440Z"
    }
   }
  },
  {
   "cell_type": "code",
   "execution_count": 5,
   "metadata": {
    "scrolled": false,
    "ExecuteTime": {
     "start_time": "2023-04-10T08:50:17.722661Z",
     "end_time": "2023-04-10T08:50:18.226302Z"
    }
   },
   "outputs": [
    {
     "name": "stdout",
     "output_type": "stream",
     "text": [
      "<class 'pandas.core.frame.DataFrame'>\n",
      "Int64Index: 114160 entries, 34 to 106593\n",
      "Data columns (total 15 columns):\n",
      " #   Column                 Non-Null Count   Dtype         \n",
      "---  ------                 --------------   -----         \n",
      " 0   transaction_hash       114160 non-null  object        \n",
      " 1   block_number           114160 non-null  int64         \n",
      " 2   timestamp              114160 non-null  datetime64[ns]\n",
      " 3   account_address        114160 non-null  object        \n",
      " 4   status                 114160 non-null  bool          \n",
      " 5   contracts_address      114160 non-null  object        \n",
      " 6   input_tokens_address   114160 non-null  object        \n",
      " 7   input_tokens_amount    114160 non-null  object        \n",
      " 8   output_tokens_address  114160 non-null  object        \n",
      " 9   output_tokens_amount   114160 non-null  object        \n",
      " 10  protocols              114160 non-null  object        \n",
      " 11  gas_price              114160 non-null  int64         \n",
      " 12  gas_usage              114160 non-null  int64         \n",
      " 13  block_position         114160 non-null  int64         \n",
      " 14  profit_amount          114160 non-null  float64       \n",
      "dtypes: bool(1), datetime64[ns](1), float64(1), int64(4), object(8)\n",
      "memory usage: 13.2+ MB\n"
     ]
    }
   ],
   "source": [
    "arb_df.info()"
   ]
  },
  {
   "cell_type": "markdown",
   "metadata": {},
   "source": [
    "## Status Analysis\n",
    "\n",
    "Get the success rate of each address and protocol."
   ]
  },
  {
   "cell_type": "code",
   "execution_count": 6,
   "metadata": {
    "ExecuteTime": {
     "start_time": "2023-04-10T08:50:18.138602Z",
     "end_time": "2023-04-10T08:50:18.256085Z"
    }
   },
   "outputs": [],
   "source": [
    "def count_features_grouped_by(df: pd.DataFrame, condition: str, _by: [str], features: [str]) -> pd.DataFrame:\n",
    "    return df.loc[eval(condition)].groupby(by=_by).count().reset_index()[features]"
   ]
  },
  {
   "cell_type": "markdown",
   "metadata": {},
   "source": [
    "### By Address\n",
    "\n",
    "Get the success rate of each address"
   ]
  },
  {
   "cell_type": "code",
   "execution_count": 7,
   "outputs": [
    {
     "name": "stdout",
     "output_type": "stream",
     "text": [
      "Success rate of each address:\n"
     ]
    },
    {
     "data": {
      "text/plain": "account_address\n0x0000000000000eb4ec62758aae93400b3e5f7f18    1.000000\n0x000000000000660def84e69995117c0176ba446e    0.846154\n0x0000000000007f150bd6f54c40a34d7c3d5e9f56    1.000000\n0x0000000000036414940324055c43e75f56b7d016    1.000000\n0x00000000000970375ff38f05eb9d6db32ae40708    0.666667\nName: status, dtype: float64"
     },
     "execution_count": 7,
     "metadata": {},
     "output_type": "execute_result"
    }
   ],
   "source": [
    "address_success_rate = arb_df.groupby('account_address')['status'].mean()\n",
    "print('Success rate of each address:')\n",
    "address_success_rate.head()"
   ],
   "metadata": {
    "collapsed": false,
    "ExecuteTime": {
     "start_time": "2023-04-10T08:50:18.231461Z",
     "end_time": "2023-04-10T08:50:18.362804Z"
    }
   }
  },
  {
   "cell_type": "markdown",
   "metadata": {},
   "source": [
    "### By Protocol\n",
    "Get the success rate of each address\n"
   ]
  },
  {
   "cell_type": "code",
   "execution_count": 8,
   "outputs": [
    {
     "data": {
      "text/plain": "balancer_v1    0.099974\nbancor         0.000044\ncurve          0.006289\nuniswap_v2     0.852260\nuniswap_v3     0.439813\ndtype: float64"
     },
     "execution_count": 8,
     "metadata": {},
     "output_type": "execute_result"
    }
   ],
   "source": [
    "# Split the protocols column into separate columns for each protocol\n",
    "protocols_df = arb_df[\"protocols\"].str.replace(\"[{}]\", \"\", regex=True).str.get_dummies(sep=\",\")\n",
    "\n",
    "# Concatenate the status column and the protocol columns\n",
    "merged_df = pd.concat([arb_df[\"status\"], protocols_df], axis=1)\n",
    "\n",
    "# Calculate the success rate for each protocol\n",
    "rates_df = merged_df.mean()\n",
    "rates_df = rates_df.drop(\"status\")\n",
    "\n",
    "rates_df"
   ],
   "metadata": {
    "collapsed": false,
    "ExecuteTime": {
     "start_time": "2023-04-10T08:50:18.363649Z",
     "end_time": "2023-04-10T08:50:19.090323Z"
    }
   }
  },
  {
   "cell_type": "code",
   "execution_count": 9,
   "outputs": [
    {
     "data": {
      "text/plain": "<Figure size 432x288 with 1 Axes>",
      "image/png": "[encoded data removed]"
     },
     "metadata": {
      "needs_background": "light"
     },
     "output_type": "display_data"
    }
   ],
   "source": [
    "rates_df.plot(kind=\"bar\", rot=0)\n",
    "plt.title(\"Success Rates for Each Protocol\")\n",
    "plt.xlabel(\"Protocol\")\n",
    "plt.ylabel(\"Success Rate\")\n",
    "plt.show()"
   ],
   "metadata": {
    "collapsed": false,
    "ExecuteTime": {
     "start_time": "2023-04-10T08:50:19.087342Z",
     "end_time": "2023-04-10T08:50:19.335740Z"
    }
   }
  },
  {
   "cell_type": "markdown",
   "metadata": {},
   "source": [
    "## Gas Usage Analysis"
   ]
  },
  {
   "cell_type": "markdown",
   "source": [
    "### Distribution\n"
   ],
   "metadata": {
    "collapsed": false
   }
  },
  {
   "cell_type": "markdown",
   "metadata": {},
   "source": [
    "### Average gas usage per block\n",
    "Compare average gas price for arbitrage transactions in each block with the total average gas price of that block.\n",
    "\n",
    "First, load the blocks data."
   ]
  },
  {
   "cell_type": "code",
   "execution_count": 10,
   "outputs": [
    {
     "data": {
      "text/plain": "   block_number  avg_gas_price  avg_gas_usage\n0      15350000   2.721346e+10  147368.451923\n1      15350001   2.254700e+10  132315.841629\n2      15350002   2.462672e+10  143398.263889\n3      15350003   1.947772e+10  193935.637097\n4      15350004   2.215424e+10  159431.977011",
      "text/html": "<div>\n<style scoped>\n    .dataframe tbody tr th:only-of-type {\n        vertical-align: middle;\n    }\n\n    .dataframe tbody tr th {\n        vertical-align: top;\n    }\n\n    .dataframe thead th {\n        text-align: right;\n    }\n</style>\n<table border=\"1\" class=\"dataframe\">\n  <thead>\n    <tr style=\"text-align: right;\">\n      <th></th>\n      <th>block_number</th>\n      <th>avg_gas_price</th>\n      <th>avg_gas_usage</th>\n    </tr>\n  </thead>\n  <tbody>\n    <tr>\n      <th>0</th>\n      <td>15350000</td>\n      <td>2.721346e+10</td>\n      <td>147368.451923</td>\n    </tr>\n    <tr>\n      <th>1</th>\n      <td>15350001</td>\n      <td>2.254700e+10</td>\n      <td>132315.841629</td>\n    </tr>\n    <tr>\n      <th>2</th>\n      <td>15350002</td>\n      <td>2.462672e+10</td>\n      <td>143398.263889</td>\n    </tr>\n    <tr>\n      <th>3</th>\n      <td>15350003</td>\n      <td>1.947772e+10</td>\n      <td>193935.637097</td>\n    </tr>\n    <tr>\n      <th>4</th>\n      <td>15350004</td>\n      <td>2.215424e+10</td>\n      <td>159431.977011</td>\n    </tr>\n  </tbody>\n</table>\n</div>"
     },
     "execution_count": 10,
     "metadata": {},
     "output_type": "execute_result"
    }
   ],
   "source": [
    "query = \"SELECT * FROM blocks WHERE block_number BETWEEN 15200000 AND 15500000\"\n",
    "block_df = pd.DataFrame(conn.execute(text(query)))\n",
    "block_df.head()"
   ],
   "metadata": {
    "collapsed": false,
    "ExecuteTime": {
     "start_time": "2023-04-10T08:50:19.337510Z",
     "end_time": "2023-04-10T08:50:21.219214Z"
    }
   }
  },
  {
   "cell_type": "code",
   "execution_count": 11,
   "outputs": [
    {
     "data": {
      "text/plain": "<Figure size 432x288 with 1 Axes>",
      "image/png": "[encoded data removed]"
     },
     "metadata": {
      "needs_background": "light"
     },
     "output_type": "display_data"
    }
   ],
   "source": [
    "# Gas usage distribution\n",
    "\n",
    "plt.hist(arb_df['gas_usage'], bins=50)\n",
    "plt.xlabel('Gas Usage')\n",
    "plt.ylabel('Frequency')\n",
    "plt.show()"
   ],
   "metadata": {
    "collapsed": false,
    "ExecuteTime": {
     "start_time": "2023-04-10T08:50:21.234445Z",
     "end_time": "2023-04-10T08:50:21.667332Z"
    }
   }
  },
  {
   "cell_type": "markdown",
   "metadata": {},
   "source": [
    "### Compared with all transactions"
   ]
  },
  {
   "cell_type": "code",
   "execution_count": 12,
   "outputs": [],
   "source": [
    "avg_gas_per_block = arb_df.groupby('block_number')['gas_usage'].mean()"
   ],
   "metadata": {
    "collapsed": false,
    "ExecuteTime": {
     "start_time": "2023-04-10T08:50:21.537785Z",
     "end_time": "2023-04-10T08:50:21.667839Z"
    }
   }
  },
  {
   "cell_type": "code",
   "execution_count": 13,
   "outputs": [
    {
     "data": {
      "text/plain": "       block_number  avg_gas_price  avg_gas_usage  gas_usage\n21         15200022   4.153248e+10  134339.764151    68917.0\n22         15200028   2.738264e+10  200588.850000   136481.0\n23         15200029   3.027934e+10  159324.673966    51621.0\n24         15200034   4.212785e+10  155170.612903    60038.0\n25         15200042   3.362009e+10  124875.841837    65111.0\n...             ...            ...            ...        ...\n65184      15499977   1.275421e+10  150213.633094    41032.0\n65185      15499983   2.279058e+10  173226.878453   124695.0\n65186      15499984   2.380291e+10  138621.292237    86905.0\n65187      15499989   2.014510e+10  156501.361204   146233.0\n65188      15499997   1.865771e+10  119595.007220    52104.0\n\n[69932 rows x 4 columns]",
      "text/html": "<div>\n<style scoped>\n    .dataframe tbody tr th:only-of-type {\n        vertical-align: middle;\n    }\n\n    .dataframe tbody tr th {\n        vertical-align: top;\n    }\n\n    .dataframe thead th {\n        text-align: right;\n    }\n</style>\n<table border=\"1\" class=\"dataframe\">\n  <thead>\n    <tr style=\"text-align: right;\">\n      <th></th>\n      <th>block_number</th>\n      <th>avg_gas_price</th>\n      <th>avg_gas_usage</th>\n      <th>gas_usage</th>\n    </tr>\n  </thead>\n  <tbody>\n    <tr>\n      <th>21</th>\n      <td>15200022</td>\n      <td>4.153248e+10</td>\n      <td>134339.764151</td>\n      <td>68917.0</td>\n    </tr>\n    <tr>\n      <th>22</th>\n      <td>15200028</td>\n      <td>2.738264e+10</td>\n      <td>200588.850000</td>\n      <td>136481.0</td>\n    </tr>\n    <tr>\n      <th>23</th>\n      <td>15200029</td>\n      <td>3.027934e+10</td>\n      <td>159324.673966</td>\n      <td>51621.0</td>\n    </tr>\n    <tr>\n      <th>24</th>\n      <td>15200034</td>\n      <td>4.212785e+10</td>\n      <td>155170.612903</td>\n      <td>60038.0</td>\n    </tr>\n    <tr>\n      <th>25</th>\n      <td>15200042</td>\n      <td>3.362009e+10</td>\n      <td>124875.841837</td>\n      <td>65111.0</td>\n    </tr>\n    <tr>\n      <th>...</th>\n      <td>...</td>\n      <td>...</td>\n      <td>...</td>\n      <td>...</td>\n    </tr>\n    <tr>\n      <th>65184</th>\n      <td>15499977</td>\n      <td>1.275421e+10</td>\n      <td>150213.633094</td>\n      <td>41032.0</td>\n    </tr>\n    <tr>\n      <th>65185</th>\n      <td>15499983</td>\n      <td>2.279058e+10</td>\n      <td>173226.878453</td>\n      <td>124695.0</td>\n    </tr>\n    <tr>\n      <th>65186</th>\n      <td>15499984</td>\n      <td>2.380291e+10</td>\n      <td>138621.292237</td>\n      <td>86905.0</td>\n    </tr>\n    <tr>\n      <th>65187</th>\n      <td>15499989</td>\n      <td>2.014510e+10</td>\n      <td>156501.361204</td>\n      <td>146233.0</td>\n    </tr>\n    <tr>\n      <th>65188</th>\n      <td>15499997</td>\n      <td>1.865771e+10</td>\n      <td>119595.007220</td>\n      <td>52104.0</td>\n    </tr>\n  </tbody>\n</table>\n<p>69932 rows × 4 columns</p>\n</div>"
     },
     "execution_count": 13,
     "metadata": {},
     "output_type": "execute_result"
    }
   ],
   "source": [
    "# merge the average gas usage per block with the blocks_df dataframe\n",
    "merged_df = pd.merge(block_df, avg_gas_per_block, on='block_number', how='inner')\n",
    "merged_df.sort_values(by='block_number')"
   ],
   "metadata": {
    "collapsed": false,
    "ExecuteTime": {
     "start_time": "2023-04-10T08:50:21.550287Z",
     "end_time": "2023-04-10T08:50:21.936142Z"
    }
   }
  },
  {
   "cell_type": "code",
   "execution_count": 14,
   "outputs": [
    {
     "data": {
      "text/plain": "<Figure size 1080x720 with 1 Axes>",
      "image/png": "[encoded data removed]"
     },
     "metadata": {
      "needs_background": "light"
     },
     "output_type": "display_data"
    }
   ],
   "source": [
    "# plot the comparison of average gas usage per block with total average\n",
    "plt.figure(figsize=(15, 10))\n",
    "plt.plot(merged_df['block_number'], merged_df['avg_gas_usage'], label='Total Average')\n",
    "plt.plot(merged_df['block_number'], merged_df['gas_usage'], label='Arbitrage Average')\n",
    "plt.xlabel('Block Number')\n",
    "plt.ylabel('Average Gas Usage')\n",
    "plt.legend()\n",
    "plt.show()"
   ],
   "metadata": {
    "collapsed": false,
    "ExecuteTime": {
     "start_time": "2023-04-10T08:50:21.934336Z",
     "end_time": "2023-04-10T08:50:24.125020Z"
    }
   }
  },
  {
   "cell_type": "markdown",
   "metadata": {},
   "source": [
    "## Gas Price Analysis\n",
    "\n",
    "### Distribution"
   ]
  },
  {
   "cell_type": "code",
   "execution_count": 15,
   "metadata": {
    "ExecuteTime": {
     "start_time": "2023-04-10T08:50:22.616691Z",
     "end_time": "2023-04-10T08:50:24.126233Z"
    }
   },
   "outputs": [
    {
     "data": {
      "text/plain": "<Figure size 1080x720 with 1 Axes>",
      "image/png": "[encoded data removed]"
     },
     "metadata": {
      "needs_background": "light"
     },
     "output_type": "display_data"
    }
   ],
   "source": [
    "# Gas usage distribution\n",
    "\n",
    "plt.figure(figsize=(15, 10))\n",
    "plt.hist(arb_df['gas_price'], bins=50)\n",
    "plt.xlabel('Gas Price')\n",
    "plt.ylabel('Frequency')\n",
    "plt.show()"
   ]
  },
  {
   "cell_type": "markdown",
   "source": [
    "### Compared with all transactions"
   ],
   "metadata": {
    "collapsed": false
   }
  },
  {
   "cell_type": "code",
   "execution_count": 16,
   "outputs": [
    {
     "data": {
      "text/plain": "<Figure size 2160x720 with 1 Axes>",
      "image/png": "[encoded data removed]"
     },
     "metadata": {
      "needs_background": "light"
     },
     "output_type": "display_data"
    }
   ],
   "source": [
    "avg_gas_per_block = arb_df.groupby('block_number')['gas_price'].mean()\n",
    "\n",
    "# merge the average gas price per block with the blocks_df dataframe\n",
    "merged_df = pd.merge(block_df, avg_gas_per_block, on='block_number', how='inner')\n",
    "merged_df.sort_values(by='block_number')\n",
    "\n",
    "# plot the comparison of average gas usage per block with total average\n",
    "plt.figure(figsize=(30, 10))\n",
    "plt.plot(merged_df['block_number'], merged_df['avg_gas_price'], label='Total Average')\n",
    "plt.plot(merged_df['block_number'], merged_df['gas_price'], label='Arbitrage Average')\n",
    "plt.xlabel('Block Number')\n",
    "plt.ylabel('Average Gas Price')\n",
    "plt.legend()\n",
    "plt.show()"
   ],
   "metadata": {
    "collapsed": false,
    "ExecuteTime": {
     "start_time": "2023-04-10T08:50:22.906373Z",
     "end_time": "2023-04-10T08:50:24.216489Z"
    }
   }
  },
  {
   "cell_type": "markdown",
   "metadata": {},
   "source": [
    "# Analysis of the Tokens\n",
    "\n",
    "In the first part, we show the most used tokens for profit in arbitrage.\n",
    "Note that in an arbitrage transaction there might be several tokens involved but in the end the arbitrageur gains profit from a single token (this is the most basic analysis of arbitrage transactions, it's possible that the user gains profit from multiple tokens which occur in more complex arbitrages)."
   ]
  },
  {
   "cell_type": "code",
   "execution_count": null,
   "metadata": {},
   "outputs": [],
   "source": [
    "def _total_profit(_address: str):\n",
    "    return arb_df.loc[arb_df.account_address == _address, 'profit_amount'].sum()\n",
    "\n",
    "\n",
    "def _token_use(token_column: str):\n",
    "    _tokens = arb_df[token_column].apply(lambda lst: list(dict.fromkeys(lst.split(\";\"))))\n",
    "\n",
    "    _token_uses = {}\n",
    "    for row, _cnt in _tokens.value_counts().iteritems():\n",
    "        for idx in row:\n",
    "            _token_uses[idx] = _token_uses.get(idx, 0) + _cnt\n",
    "\n",
    "    return pd.DataFrame(_token_uses.values(), index=_token_uses.keys())\n",
    "\n",
    "\n",
    "def _get_token_degrees():\n",
    "    input_tokens_degree = pd.DataFrame(columns=['transaction_hash', 'degree'], dtype='object')\n",
    "    output_tokens_degree = pd.DataFrame(columns=['transaction_hash', 'degree'], dtype='object')\n",
    "    output_tokens_degree['transaction_hash'] = arb_df['transaction_hash']\n",
    "    input_tokens_degree['transaction_hash'] = arb_df['transaction_hash']\n",
    "    output_tokens_degree['degree'] = arb_df['output_tokens_address'].apply(\n",
    "        lambda lst: len(list(dict.fromkeys(lst.split(\";\")))))\n",
    "    input_tokens_degree['degree'] = arb_df['input_tokens_address'].apply(\n",
    "        lambda lst: len(list(dict.fromkeys(lst.split(\";\")))))\n",
    "    return input_tokens_degree, output_tokens_degree\n",
    "\n",
    "\n",
    "from tokens.name_tags import get_name_tag\n",
    "\n",
    "\n",
    "def _get_name_tags(addresses):\n",
    "    _public_name_tags = {}\n",
    "\n",
    "    for address in addresses:\n",
    "        _public_name_tags[address] = get_name_tag(_address=address)\n",
    "\n",
    "    return _public_name_tags"
   ]
  },
  {
   "cell_type": "markdown",
   "metadata": {},
   "source": [
    "## Most Used Tokens"
   ]
  },
  {
   "cell_type": "code",
   "execution_count": null,
   "metadata": {
    "scrolled": true
   },
   "outputs": [],
   "source": [
    "profitable_input_tokens = _token_use('input_tokens_address')\n",
    "profitable_output_tokens = _token_use('output_tokens_address')"
   ]
  },
  {
   "cell_type": "code",
   "execution_count": null,
   "metadata": {},
   "outputs": [],
   "source": [
    "profitable_input_tokens"
   ]
  },
  {
   "cell_type": "code",
   "execution_count": null,
   "metadata": {},
   "outputs": [],
   "source": [
    "profitable_output_tokens"
   ]
  },
  {
   "cell_type": "markdown",
   "metadata": {},
   "source": [
    "### Difference between input and output degrees of arbitrage transactions"
   ]
  },
  {
   "cell_type": "code",
   "execution_count": null,
   "metadata": {},
   "outputs": [],
   "source": [
    "any(profitable_output_tokens - profitable_input_tokens != 0)"
   ]
  },
  {
   "cell_type": "markdown",
   "metadata": {},
   "source": [
    "The input and output degrees of the tokens are equal.\n",
    "\n",
    "### Transaction Degree Analysis\n",
    "Now, let's check the degree vvalue of arbitrage transactions"
   ]
  },
  {
   "cell_type": "code",
   "execution_count": null,
   "metadata": {},
   "outputs": [],
   "source": [
    "del profitable_output_tokens"
   ]
  },
  {
   "cell_type": "code",
   "execution_count": null,
   "metadata": {},
   "outputs": [],
   "source": [
    "tokens_degree, _ = _get_token_degrees()\n",
    "tokens_degree"
   ]
  },
  {
   "cell_type": "code",
   "execution_count": null,
   "metadata": {},
   "outputs": [],
   "source": [
    "tokens_degree.hist('degree')"
   ]
  },
  {
   "cell_type": "code",
   "execution_count": null,
   "metadata": {},
   "outputs": [],
   "source": [
    "# Get the most profitable tokens\n",
    "# profitable_input_tokens\n",
    "\n",
    "MIN_PROFITABLE_TXN_CNT = 1000\n",
    "\n",
    "most_profitable_tokens = profitable_input_tokens.drop(\n",
    "    labels=profitable_input_tokens[profitable_input_tokens.values < MIN_PROFITABLE_TXN_CNT].index).sort_values(by=[0],\n",
    "                                                                                                               ascending=False)[\n",
    "                         :20]\n",
    "\n",
    "public_name_tags = _get_name_tags(most_profitable_tokens.index)"
   ]
  },
  {
   "cell_type": "code",
   "execution_count": null,
   "metadata": {},
   "outputs": [],
   "source": [
    "def bar(ax, x, y, _rotation=45, _width=0.3):\n",
    "    ax.bar(x, y, width=_width)\n",
    "    ax.set_xticks(x)\n",
    "    ax.set_xticklabels(x, rotation=_rotation)"
   ]
  },
  {
   "cell_type": "code",
   "execution_count": null,
   "metadata": {},
   "outputs": [],
   "source": [
    "from matplotlib.transforms import ScaledTranslation\n",
    "\n",
    "f, (ax1, ax2) = plt.subplots(2, 1, figsize=(20, 10))\n",
    "\n",
    "bar(ax1, most_profitable_tokens.index.map(public_name_tags), most_profitable_tokens.values.squeeze())\n",
    "bar(ax2, most_profitable_tokens.index.map(public_name_tags), most_profitable_tokens.values.squeeze())\n",
    "\n",
    "ax1.set_ylim(most_profitable_tokens.values[0] - 5000, most_profitable_tokens.values[0] + 5000)  # outliers only\n",
    "ax2.set_ylim(0, most_profitable_tokens.values[1] + 2000)  # most of the data\n",
    "\n",
    "ax1.spines['bottom'].set_visible(False)\n",
    "ax2.spines['top'].set_visible(False)\n",
    "ax1.xaxis.tick_top()\n",
    "ax1.tick_params(labeltop=False)  # don't put tick labels at the top\n",
    "ax2.xaxis.tick_bottom()\n",
    "\n",
    "d = .010  # how big to make the diagonal lines in axes coordinates\n",
    "# arguments to pass to plot, just so we don't keep repeating them\n",
    "kwargs = dict(transform=ax1.transAxes, color='k', clip_on=False)\n",
    "ax1.plot((-d, +d), (-d, +d), **kwargs)  # top-left diagonal\n",
    "ax1.plot((1 - d, 1 + d), (-d, +d), **kwargs)  # top-right diagonal\n",
    "\n",
    "kwargs.update(transform=ax2.transAxes)  # switch to the bottom axes\n",
    "ax2.plot((-d, +d), (1 - d, 1 + d), **kwargs)  # bottom-left diagonal\n",
    "ax2.plot((1 - d, 1 + d), (1 - d, 1 + d), **kwargs)  # bottom-right diagonal\n",
    "\n",
    "ax1.set_title(\"Most used tokens for arbitrage\")\n",
    "ax2.set_xlabel(\"Token public name tag\")\n",
    "f.text(0.08, 0.5, 'Number of arbitrages', va='center', rotation='vertical')\n",
    "\n",
    "# https://stackoverflow.com/questions/28615887/how-to-move-a-tick-label-in-matplotlib\n",
    "# Create offset transform by 5 points in x direction\n",
    "dx = -0.2\n",
    "dy = 0.\n",
    "offset = ScaledTranslation(dx, dy, f.dpi_scale_trans)\n",
    "\n",
    "for label in ax2.get_xmajorticklabels():\n",
    "    label.set_transform(label.get_transform() + offset)\n",
    "\n",
    "plt.show()"
   ]
  },
  {
   "cell_type": "markdown",
   "metadata": {},
   "source": [
    "### Tokens Normalization"
   ]
  },
  {
   "cell_type": "code",
   "execution_count": null,
   "metadata": {},
   "outputs": [],
   "source": [
    "most_profitable_tokens"
   ]
  },
  {
   "cell_type": "code",
   "execution_count": null,
   "metadata": {},
   "outputs": [],
   "source": []
  },
  {
   "cell_type": "markdown",
   "metadata": {},
   "source": [
    "The most used token is WETH. This is because arbitrageurs usually buy an arbitrage asset using ETH and gain the profit by selling them in ETH.\n",
    "This might be because the WETH-TOKEN pools are more common in the exchanges.\n",
    "The three latter places belong to stable coins: USDC, USDT and DAI\n",
    "In the most used tokens we can see a lot of rather lesser known and stable coins: SHIB, FRAX, FunFair etc.\n",
    "Note that originally we only stored and counted the profit token which is usually WETH. But as mentioned before, the arbitrage opportunity is not a result of instability in WETH, rather in the instability of a certain token which is then seized using the WETH pool.\n"
   ]
  },
  {
   "cell_type": "markdown",
   "metadata": {},
   "source": [
    "## Most Active Addresses\n",
    "\n",
    "In this part we take a look at the most active arbitrageurs i.e. the addresses that have the most arbitrage transactions.\n",
    "We can use this data along with the most profitable addresses to see if there is any relation between number of txns and profit??\n",
    "\n",
    "Get the distribution of the number of transactions"
   ]
  },
  {
   "cell_type": "code",
   "execution_count": null,
   "metadata": {},
   "outputs": [],
   "source": [
    "# Get the most arbitrageurs\n",
    "MIN_ARBITRAGE_TXN_CNT = 2000\n",
    "\n",
    "arbitrageurs = arb_df['account_address'].value_counts()\n",
    "\n",
    "most_active_arbitrageurs = arbitrageurs.drop(labels=arbitrageurs[arbitrageurs.values < MIN_ARBITRAGE_TXN_CNT].index)"
   ]
  },
  {
   "cell_type": "code",
   "execution_count": null,
   "metadata": {},
   "outputs": [],
   "source": [
    "f, (ax1) = plt.subplots(1, 1, figsize=(20, 10))\n",
    "\n",
    "bar(ax1, most_active_arbitrageurs.index, most_active_arbitrageurs.values, _rotation=60, _width=0.4)\n",
    "\n",
    "ax1.set_title(\"Most Frequent Arbitrageurs\")\n",
    "ax1.set_xlabel(\"Arbitrageur Address\")\n",
    "\n",
    "# https://stackoverflow.com/questions/28615887/how-to-move-a-tick-label-in-matplotlib\n",
    "# Create offset transform by 5 points in x direction\n",
    "dx = -0.7\n",
    "dy = 0.\n",
    "offset = ScaledTranslation(dx, dy, f.dpi_scale_trans)\n",
    "\n",
    "for label in ax1.get_xmajorticklabels():\n",
    "    label.set_transform(label.get_transform() + offset)\n",
    "\n",
    "f.text(0.08, 0.5, 'Number of arbitrages', va='center', rotation='vertical')\n",
    "\n",
    "plt.show()"
   ]
  },
  {
   "cell_type": "code",
   "execution_count": null,
   "metadata": {},
   "outputs": [],
   "source": [
    "most_active_arbitrageurs"
   ]
  },
  {
   "cell_type": "markdown",
   "metadata": {},
   "source": [
    "## Active Addresses Analysis\n",
    "\n",
    "### Distribution"
   ]
  },
  {
   "cell_type": "code",
   "execution_count": null,
   "metadata": {},
   "outputs": [],
   "source": [
    "fig = plt.figure(figsize=(20, 10))\n",
    "arb_cnt = arbitrageurs.groupby(arbitrageurs).count()[:100]\n",
    "labels = [str(i) for i in arb_cnt.index]\n",
    "plt.bar(labels, arb_cnt.values)\n",
    "plt.xticks(rotation=90)\n",
    "plt.xlabel(\"Number of arbitrages\")\n",
    "plt.ylabel(\"Number of arbitrageurs\")\n",
    "plt.show()"
   ]
  },
  {
   "cell_type": "markdown",
   "metadata": {},
   "source": [
    "Not much can be interpreted from the above plot, yet."
   ]
  },
  {
   "cell_type": "code",
   "execution_count": null,
   "metadata": {},
   "outputs": [],
   "source": [
    "# What if we ignore the single transaction arbitrageurs?\n",
    "\n",
    "fig = plt.figure(figsize=(20, 10))\n",
    "arb_cnt = arbitrageurs.groupby(arbitrageurs).count()[1:100]\n",
    "plt.bar(arb_cnt.index, arb_cnt.values)\n",
    "plt.xlabel(\"Number of arbitrages\")\n",
    "plt.ylabel(\"Number of arbitrageurs\")\n",
    "plt.show()"
   ]
  },
  {
   "cell_type": "markdown",
   "metadata": {},
   "source": [
    "## Ratio of arbitrage transactions\n",
    "The percentage of transactions that are arbitrage for each address"
   ]
  },
  {
   "cell_type": "markdown",
   "metadata": {},
   "source": [
    "### Load Accounts data\n",
    "Get number of transactions of each address"
   ]
  },
  {
   "cell_type": "code",
   "execution_count": null,
   "metadata": {
    "collapsed": true
   },
   "outputs": [],
   "source": [
    "from datetime import datetime\n",
    "\n",
    "adr_db_path = \"../db/addresses/\"\n",
    "number_of_files = len(os.listdir(adr_db_path))\n",
    "column_names = ['txn_cnt_' + str(i) for i in range(number_of_files)]\n",
    "adr_df = pd.DataFrame(columns=['address'], dtype='object')\n",
    "\n",
    "i = 0\n",
    "for file_name in os.listdir(adr_db_path):\n",
    "    print(datetime.now(), file_name)\n",
    "    temp_adr_df = pd.read_csv(adr_db_path + file_name, names=['address', 'txn_cnt_' + str(i)], index_col=False)\n",
    "    temp_adr_df = temp_adr_df.groupby(by=['address']).sum()\n",
    "    adr_df = adr_df.merge(temp_adr_df, how='outer', on='address')\n",
    "    print(datetime.now(), file_name, 'end')\n",
    "    i += 1\n",
    "\n",
    "adr_df.fillna(0)\n",
    "adr_df['txn_cnt'] = adr_df[column_names].sum(axis=1)\n",
    "adr_df.drop(columns=column_names, inplace=True)\n",
    "adr_df"
   ]
  },
  {
   "cell_type": "code",
   "execution_count": null,
   "metadata": {},
   "outputs": [],
   "source": [
    "adr_df[adr_df['txn_cnt_0'] > np.mean(adr_df[adr_df['txn_cnt_0'] > 1])].hist()"
   ]
  },
  {
   "cell_type": "markdown",
   "metadata": {},
   "source": [
    "# TODO\n",
    "\n",
    "### Benefit gained through arbitrage per address"
   ]
  },
  {
   "cell_type": "code",
   "execution_count": null,
   "metadata": {},
   "outputs": [],
   "source": []
  },
  {
   "cell_type": "markdown",
   "metadata": {},
   "source": [
    "# TODO\n",
    "## Time Analysis of Arbitrage Transactions\n",
    "### Frequency for the Blockchain"
   ]
  },
  {
   "cell_type": "markdown",
   "metadata": {},
   "source": [
    "#### Monthly"
   ]
  },
  {
   "cell_type": "code",
   "execution_count": null,
   "metadata": {},
   "outputs": [],
   "source": [
    "month_df = arb_df.groupby([arb_df['time_stamp'].dt.year, arb_df['time_stamp'].dt.month]).count()[\n",
    "    ['block_number', 'transaction_hash']]\n",
    "month_df"
   ]
  },
  {
   "cell_type": "code",
   "execution_count": null,
   "metadata": {
    "scrolled": true
   },
   "outputs": [],
   "source": [
    "month_df.describe()"
   ]
  },
  {
   "cell_type": "code",
   "execution_count": null,
   "metadata": {},
   "outputs": [],
   "source": [
    "del month_df"
   ]
  },
  {
   "cell_type": "markdown",
   "metadata": {},
   "source": [
    "#### Daily"
   ]
  },
  {
   "cell_type": "code",
   "execution_count": null,
   "metadata": {},
   "outputs": [],
   "source": [
    "day_df = arb_df.groupby([arb_df['time_stamp'].dt.date]).count()[['block_number', 'transaction_hash']]\n",
    "day_df"
   ]
  },
  {
   "cell_type": "code",
   "execution_count": null,
   "metadata": {},
   "outputs": [],
   "source": [
    "day_df.describe()"
   ]
  },
  {
   "cell_type": "code",
   "execution_count": null,
   "metadata": {},
   "outputs": [],
   "source": [
    "plt.plot(day_df['block_number'])\n",
    "del day_df\n",
    "plt.show()"
   ]
  },
  {
   "cell_type": "code",
   "execution_count": null,
   "metadata": {
    "collapsed": true
   },
   "outputs": [],
   "source": [
    "# Hourly\n",
    "hour_df = arb_df.groupby([arb_df['time_stamp'].dt.date, arb_df['time_stamp'].dt.hour]).count()[\n",
    "    ['block_number', 'transaction_hash']]\n",
    "hour_df"
   ]
  },
  {
   "cell_type": "code",
   "execution_count": null,
   "metadata": {
    "collapsed": true
   },
   "outputs": [],
   "source": [
    "hour_df.describe()"
   ]
  },
  {
   "cell_type": "code",
   "execution_count": null,
   "metadata": {},
   "outputs": [],
   "source": [
    "hour_list = list(hour_df['block_number'])\n",
    "\n",
    "grp_val = 24\n",
    "\n",
    "plt.plot([sum(hour_list[i:i + grp_val]) for i in range(0, len(hour_list), grp_val)])\n",
    "plt.show()"
   ]
  },
  {
   "cell_type": "code",
   "execution_count": null,
   "metadata": {},
   "outputs": [],
   "source": [
    "del hour_df"
   ]
  },
  {
   "cell_type": "code",
   "execution_count": null,
   "metadata": {},
   "outputs": [],
   "source": [
    "# By Minute\n",
    "minute_df = \\\n",
    "    arb_df.groupby(\n",
    "        [arb_df['time_stamp'].dt.date, arb_df['time_stamp'].dt.hour, arb_df['time_stamp'].dt.minute]).count()[\n",
    "        ['block_number', 'transaction_hash']]\n",
    "minute_df"
   ]
  },
  {
   "cell_type": "code",
   "execution_count": null,
   "metadata": {},
   "outputs": [],
   "source": [
    "minute_df.describe()"
   ]
  },
  {
   "cell_type": "code",
   "execution_count": null,
   "metadata": {},
   "outputs": [],
   "source": [
    "del minute_df"
   ]
  },
  {
   "cell_type": "markdown",
   "metadata": {},
   "source": [
    "### Frequency for Each Account"
   ]
  },
  {
   "cell_type": "code",
   "execution_count": null,
   "metadata": {
    "scrolled": false
   },
   "outputs": [],
   "source": [
    "# Daily Frequency\n",
    "acc_freq_df = arb_df.loc[arb_df['account_address'].isin(most_active_arbitrageurs.index)].groupby(\n",
    "    [arb_df['account_address'], arb_df['time_stamp'].dt.date]).count()[['block_number', 'transaction_hash']]\n",
    "acc_freq_df"
   ]
  },
  {
   "cell_type": "code",
   "execution_count": null,
   "metadata": {},
   "outputs": [],
   "source": [
    "len(acc_freq_df.index.get_level_values(0).unique())"
   ]
  },
  {
   "cell_type": "code",
   "execution_count": null,
   "metadata": {},
   "outputs": [],
   "source": []
  },
  {
   "cell_type": "markdown",
   "metadata": {},
   "source": [
    "### Frequency for Each Protocol"
   ]
  },
  {
   "cell_type": "code",
   "execution_count": null,
   "metadata": {},
   "outputs": [],
   "source": []
  },
  {
   "cell_type": "markdown",
   "metadata": {},
   "source": [
    "### Block position"
   ]
  },
  {
   "cell_type": "code",
   "execution_count": null,
   "metadata": {},
   "outputs": [],
   "source": []
  },
  {
   "cell_type": "markdown",
   "metadata": {},
   "source": [
    "# TODO\n",
    "## Arbitrage input output degree Analysis"
   ]
  },
  {
   "cell_type": "code",
   "execution_count": null,
   "metadata": {},
   "outputs": [],
   "source": []
  },
  {
   "cell_type": "markdown",
   "metadata": {},
   "source": [
    "# TODO\n",
    "\n",
    "## Most used protocols"
   ]
  },
  {
   "cell_type": "code",
   "execution_count": null,
   "metadata": {},
   "outputs": [],
   "source": [
    "protocol_uses = _protocol_use()\n",
    "protocol_uses"
   ]
  },
  {
   "cell_type": "code",
   "execution_count": null,
   "metadata": {},
   "outputs": [],
   "source": [
    "normalized_protocol_uses = {}\n",
    "\n",
    "for protocol, cnt in protocol_uses.items():\n",
    "    normalized_protocol_uses[protocol] = cnt / swp_df.protocol.value_counts()[protocol]\n",
    "\n",
    "normalized_protocol_uses"
   ]
  },
  {
   "cell_type": "code",
   "execution_count": null,
   "metadata": {},
   "outputs": [],
   "source": [
    "f, (ax1) = plt.subplots(1, 1, figsize=(20, 10))\n",
    "\n",
    "ax1.bar(protocol_uses.keys(), protocol_uses.values(), width=0.5)\n",
    "ax1.set_xticklabels(protocol_uses.keys(), rotation=45)\n",
    "ax1.set_title(\"Most Used Protocols (Not Normalized)\")\n",
    "ax1.set_xlabel(\"Protocol\")\n",
    "f.text(0.08, 0.5, 'Number of arbitrages', va='center', rotation='vertical')\n",
    "\n",
    "plt.show()"
   ]
  },
  {
   "cell_type": "code",
   "execution_count": null,
   "metadata": {},
   "outputs": [],
   "source": [
    "f, (ax1) = plt.subplots(1, 1, figsize=(20, 10))\n",
    "\n",
    "ax1.bar(normalized_protocol_uses.keys(), normalized_protocol_uses.values(), width=0.5)\n",
    "ax1.set_xticklabels(normalized_protocol_uses.keys(), rotation=45)\n",
    "ax1.set_title(\"Most Used Protocols (Normalized)\")\n",
    "ax1.set_xlabel(\"Protocol\")\n",
    "f.text(0.08, 0.5, 'Number of arbitrages', va='center', rotation='vertical')\n",
    "\n",
    "plt.show()"
   ]
  },
  {
   "cell_type": "code",
   "execution_count": null,
   "metadata": {},
   "outputs": [],
   "source": []
  },
  {
   "cell_type": "markdown",
   "metadata": {},
   "source": [
    "# TODO\n",
    "\n",
    "## Topological Analysis of Arbitrageur Nodes"
   ]
  },
  {
   "cell_type": "code",
   "execution_count": null,
   "metadata": {},
   "outputs": [],
   "source": []
  },
  {
   "cell_type": "markdown",
   "metadata": {},
   "source": [
    "# TODO\n",
    "## Mempool wait time for arbitrage transactions"
   ]
  },
  {
   "cell_type": "code",
   "execution_count": null,
   "metadata": {},
   "outputs": [],
   "source": []
  }
 ],
 "metadata": {
  "kernelspec": {
   "display_name": "Python 3 (ipykernel)",
   "language": "python",
   "name": "python3"
  },
  "language_info": {
   "codemirror_mode": {
    "name": "ipython",
    "version": 3
   },
   "file_extension": ".py",
   "mimetype": "text/x-python",
   "name": "python",
   "nbconvert_exporter": "python",
   "pygments_lexer": "ipython3",
   "version": "3.8.10"
  }
 },
 "nbformat": 4,
 "nbformat_minor": 1
}
